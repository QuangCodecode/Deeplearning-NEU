{
 "cells": [
  {
   "cell_type": "code",
   "execution_count": 130,
   "metadata": {},
   "outputs": [],
   "source": [
    "import numpy as np\n",
    "import torch\n",
    "from torch import nn"
   ]
  },
  {
   "cell_type": "markdown",
   "metadata": {},
   "source": [
    "# BAI 1"
   ]
  },
  {
   "cell_type": "code",
   "execution_count": 131,
   "metadata": {},
   "outputs": [],
   "source": [
    "def add_zeros(input, s):\n",
    "    z = s - 1\n",
    "    input_sz = input.shape[0]\n",
    "    pos = np.arange(1, input_sz)\n",
    "    pos = np.repeat(pos, z)\n",
    "\n",
    "    zero_inserted_input = np.insert(input, pos, 0, axis=1)\n",
    "    zero_inserted_input = np.insert(zero_inserted_input, pos, 0, axis=0)\n",
    "\n",
    "    new_input = zero_inserted_input\n",
    "    return new_input\n",
    "\n",
    "def convolve(input, kernel, output_sz):\n",
    "    convolved = np.zeros((output_sz, output_sz))\n",
    "    kernel_sz = kernel.shape[0]\n",
    "    for i in range(output_sz):\n",
    "        for j in range(output_sz):\n",
    "            sub_matrix = input[i:i+kernel_sz, j:j+kernel_sz]\n",
    "            convolved[i, j] = np.sum(np.multiply(sub_matrix, kernel))\n",
    "    return convolved\n",
    "    \n",
    "def transposed_conv(input, kernel, s, p):\n",
    "    input_sz = input.shape[0]\n",
    "    kernel_sz = kernel.shape[0]\n",
    "    output_sz = (input_sz - 1) * s + kernel_sz - 2 * p\n",
    "    new_input = add_zeros(input, s)\n",
    "    return convolve(new_input, kernel, output_sz)\n"
   ]
  },
  {
   "cell_type": "code",
   "execution_count": 132,
   "metadata": {},
   "outputs": [
    {
     "name": "stdout",
     "output_type": "stream",
     "text": [
      "transpose conv:\n",
      " [[ 6.  4. 12.  4.]\n",
      " [ 0.  5.  1. 15.]\n",
      " [ 0.  1.  3.  3.]\n",
      " [ 1. 10.  2. 20.]]\n",
      "\n",
      "\n",
      "added_zeros:\n",
      " [[2 0 4 0 4]\n",
      " [0 0 0 0 0]\n",
      " [0 0 1 0 3]\n",
      " [0 0 0 0 0]\n",
      " [1 0 2 0 4]]\n",
      "\n",
      "\n",
      "kernel:\n",
      " [[3 1]\n",
      " [1 5]]\n"
     ]
    }
   ],
   "source": [
    "test_input = np.array([[2, 4, 4],\n",
    "                       [0, 1, 3],\n",
    "                       [1, 2, 4]])\n",
    "\n",
    "test_kernel = np.array([[3, 1],\n",
    "                        [1, 5]])\n",
    "\n",
    "\n",
    "transpose_convolution = transposed_conv(\n",
    "    test_input, test_kernel, 2, 1)\n",
    "\n",
    "print('transpose conv:\\n', transpose_convolution)\n",
    "print('\\n')\n",
    "print('added_zeros:\\n',add_zeros(test_input, 2))\n",
    "print('\\n')\n",
    "print('kernel:\\n', test_kernel)\n"
   ]
  },
  {
   "cell_type": "code",
   "execution_count": 2,
   "metadata": {},
   "outputs": [
    {
     "data": {
      "text/plain": [
       "5e-07"
      ]
     },
     "execution_count": 2,
     "metadata": {},
     "output_type": "execute_result"
    }
   ],
   "source": [
    "0.5e-6"
   ]
  },
  {
   "cell_type": "code",
   "execution_count": null,
   "metadata": {},
   "outputs": [],
   "source": []
  },
  {
   "cell_type": "code",
   "execution_count": null,
   "metadata": {},
   "outputs": [],
   "source": []
  },
  {
   "cell_type": "code",
   "execution_count": null,
   "metadata": {},
   "outputs": [],
   "source": []
  }
 ],
 "metadata": {
  "kernelspec": {
   "display_name": "Python 3",
   "language": "python",
   "name": "python3"
  },
  "language_info": {
   "codemirror_mode": {
    "name": "ipython",
    "version": 3
   },
   "file_extension": ".py",
   "mimetype": "text/x-python",
   "name": "python",
   "nbconvert_exporter": "python",
   "pygments_lexer": "ipython3",
   "version": "3.11.2"
  }
 },
 "nbformat": 4,
 "nbformat_minor": 2
}
