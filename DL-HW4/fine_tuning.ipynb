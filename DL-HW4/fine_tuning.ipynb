{
 "cells": [
  {
   "cell_type": "code",
   "execution_count": 12,
   "metadata": {},
   "outputs": [
    {
     "data": {
      "text/plain": [
       "<torch._C.Generator at 0x1f7e12596b0>"
      ]
     },
     "execution_count": 12,
     "metadata": {},
     "output_type": "execute_result"
    }
   ],
   "source": [
    "import os\n",
    "import numpy as np\n",
    "import torch\n",
    "from torchvision import datasets, transforms\n",
    "import torch.nn as nn\n",
    "from torch.utils.data import DataLoader, Dataset\n",
    "import torch.optim as optim\n",
    "import pandas as pd\n",
    "from sklearn.metrics import f1_score, recall_score, accuracy_score\n",
    "from torchvision.models.feature_extraction import get_graph_node_names, create_feature_extractor\n",
    "import matplotlib.pyplot as plt\n",
    "import seaborn as sns\n",
    "torch.manual_seed(99)"
   ]
  },
  {
   "cell_type": "code",
   "execution_count": 13,
   "metadata": {},
   "outputs": [],
   "source": [
    "class MiniVGG(nn.Module):\n",
    "    def __init__(self):\n",
    "        super(MiniVGG, self).__init__()\n",
    "        self.features = nn.Sequential(\n",
    "            nn.Conv2d(1, 64, kernel_size=3, padding=1),\n",
    "            nn.ReLU(inplace=True),\n",
    "            nn.Conv2d(64, 64, kernel_size=3, padding=1),\n",
    "            nn.ReLU(inplace=True),\n",
    "            nn.MaxPool2d(kernel_size=2, stride=2),\n",
    "\n",
    "            nn.Conv2d(64, 128, kernel_size=3, padding=1),\n",
    "            nn.ReLU(inplace=True),\n",
    "            nn.Conv2d(128, 128, kernel_size=3, padding=1),\n",
    "            nn.ReLU(inplace=True),\n",
    "            nn.MaxPool2d(kernel_size=2, stride=2),\n",
    "\n",
    "            nn.Conv2d(128, 256, kernel_size=3, padding=1),\n",
    "            nn.ReLU(inplace=True),\n",
    "            nn.Conv2d(256, 256, kernel_size=3, padding=1),\n",
    "            nn.ReLU(inplace=True),\n",
    "            nn.MaxPool2d(kernel_size=2, stride=2),\n",
    "        )\n",
    "\n",
    "        self.classifier = nn.Linear(256*3*3, 10)\n",
    "\n",
    "        nn.init.normal_(self.classifier.weight, 0, 0.01)\n",
    "        nn.init.constant_(self.classifier.bias, 0)\n",
    "\n",
    "    def forward(self, x):\n",
    "        x = self.features(x)\n",
    "        x = torch.flatten(x, 1)\n",
    "        x = self.classifier(x)\n",
    "        return x\n"
   ]
  },
  {
   "cell_type": "code",
   "execution_count": 14,
   "metadata": {},
   "outputs": [],
   "source": [
    "transformations = transforms.Compose([\n",
    "    transforms.RandomHorizontalFlip(),\n",
    "    transforms.RandomVerticalFlip(),\n",
    "    transforms.ToTensor(),\n",
    "    transforms.Normalize((0.5,), (0.5,)),\n",
    "])"
   ]
  },
  {
   "cell_type": "code",
   "execution_count": 15,
   "metadata": {},
   "outputs": [],
   "source": [
    "fashion_mnist_train = datasets.FashionMNIST(root='./FashionMNIST', train=True, download=True, transform=transformations)\n",
    "fashion_mnist_test = datasets.FashionMNIST(root='./FashionMNIST', train=False, download=True, transform=transformations)"
   ]
  },
  {
   "cell_type": "code",
   "execution_count": 16,
   "metadata": {},
   "outputs": [],
   "source": [
    "batch_size = 64\n",
    "train_loader = DataLoader(fashion_mnist_train, batch_size=batch_size, shuffle=True)\n",
    "test_loader = DataLoader(fashion_mnist_test, batch_size=batch_size, shuffle=False)"
   ]
  },
  {
   "cell_type": "code",
   "execution_count": 17,
   "metadata": {},
   "outputs": [],
   "source": [
    "pretrained_model_cifar10 = torch.load('./models/cifar10_mini_vgg.pth', map_location=torch.device('cpu')) \n",
    "pretrained_model_mnist = torch.load('./models/cifar10_mini_vgg.pth', map_location=torch.device('cpu'))"
   ]
  },
  {
   "cell_type": "code",
   "execution_count": 18,
   "metadata": {},
   "outputs": [
    {
     "name": "stdout",
     "output_type": "stream",
     "text": [
      "odict_keys(['features.0.weight', 'features.0.bias', 'features.2.weight', 'features.2.bias', 'features.5.weight', 'features.5.bias', 'features.7.weight', 'features.7.bias', 'features.10.weight', 'features.10.bias', 'features.12.weight', 'features.12.bias', 'classifier.weight', 'classifier.bias'])\n",
      "odict_keys(['features.0.weight', 'features.0.bias', 'features.2.weight', 'features.2.bias', 'features.5.weight', 'features.5.bias', 'features.7.weight', 'features.7.bias', 'features.10.weight', 'features.10.bias', 'features.12.weight', 'features.12.bias', 'classifier.weight', 'classifier.bias'])\n"
     ]
    }
   ],
   "source": [
    "print(pretrained_model_cifar10.keys())\n",
    "print(pretrained_model_mnist.keys())"
   ]
  },
  {
   "cell_type": "code",
   "execution_count": 19,
   "metadata": {},
   "outputs": [
    {
     "data": {
      "text/plain": [
       "<All keys matched successfully>"
      ]
     },
     "execution_count": 19,
     "metadata": {},
     "output_type": "execute_result"
    }
   ],
   "source": [
    "model_cifar10 = MiniVGG().to('cpu')\n",
    "model_mnist = MiniVGG().to('cpu')\n",
    "\n",
    "model_cifar10.load_state_dict(pretrained_model_cifar10)\n",
    "model_mnist.load_state_dict(pretrained_model_mnist)"
   ]
  },
  {
   "cell_type": "code",
   "execution_count": 20,
   "metadata": {},
   "outputs": [
    {
     "data": {
      "text/plain": [
       "OrderedDict([('weight',\n",
       "              tensor([[[[-2.2723e-07, -4.1959e-07, -1.2874e-08],\n",
       "                        [-5.3820e-08, -3.5285e-08,  1.3085e-10],\n",
       "                        [-4.0859e-10, -7.4913e-12, -1.3883e-12]],\n",
       "              \n",
       "                       [[-5.5253e-06, -7.9452e-08, -8.7202e-10],\n",
       "                        [-7.8819e-08,  5.3957e-22,  2.6144e-20],\n",
       "                        [-4.1700e-11,  1.7307e-22,  1.1922e-22]],\n",
       "              \n",
       "                       [[-1.6071e-03, -1.6438e-03, -1.3335e-03],\n",
       "                        [-1.4851e-03, -1.5397e-03, -1.1648e-03],\n",
       "                        [-2.0745e-03, -1.9272e-03, -1.7380e-03]],\n",
       "              \n",
       "                       ...,\n",
       "              \n",
       "                       [[-4.4844e-03, -4.6813e-03, -5.7477e-03],\n",
       "                        [-5.8775e-03, -6.2364e-03, -7.1206e-03],\n",
       "                        [-5.7861e-03, -6.4992e-03, -7.6280e-03]],\n",
       "              \n",
       "                       [[ 9.7775e-11,  2.9410e-18, -2.4413e-16],\n",
       "                        [-4.1442e-21,  3.7238e-22, -3.1140e-23],\n",
       "                        [-8.1412e-22,  3.5813e-22,  3.3693e-22]],\n",
       "              \n",
       "                       [[-9.1001e-03, -8.8259e-03, -7.9998e-03],\n",
       "                        [-8.7576e-03, -8.5929e-03, -7.9302e-03],\n",
       "                        [-7.0281e-03, -7.1930e-03, -7.4319e-03]]],\n",
       "              \n",
       "              \n",
       "                      [[[ 5.9367e-24,  3.3538e-23,  1.8487e-23],\n",
       "                        [-1.9061e-23, -1.8888e-23,  1.1898e-23],\n",
       "                        [ 1.0891e-23, -1.2432e-23,  1.2842e-23]],\n",
       "              \n",
       "                       [[-4.0905e-24, -6.5689e-24,  1.9453e-24],\n",
       "                        [ 7.3297e-24,  5.3411e-24,  2.4259e-24],\n",
       "                        [-6.8590e-24,  7.8392e-24,  5.2012e-24]],\n",
       "              \n",
       "                       [[-2.1522e-24,  5.5708e-24, -4.9076e-24],\n",
       "                        [ 2.5139e-24, -1.0090e-23, -9.0823e-24],\n",
       "                        [-6.6857e-24, -6.7266e-24,  6.4210e-24]],\n",
       "              \n",
       "                       ...,\n",
       "              \n",
       "                       [[-6.3763e-23, -5.7083e-22, -1.6670e-20],\n",
       "                        [ 1.6959e-22, -2.2956e-19,  2.0704e-17],\n",
       "                        [ 1.9662e-17, -1.4840e-13, -2.9724e-15]],\n",
       "              \n",
       "                       [[ 2.7535e-24,  2.1613e-24,  6.5819e-24],\n",
       "                        [ 9.7045e-24, -7.1305e-24,  5.3979e-24],\n",
       "                        [ 9.2394e-24, -5.0644e-24,  7.4504e-24]],\n",
       "              \n",
       "                       [[ 5.6523e-24, -6.2459e-24,  8.3474e-24],\n",
       "                        [ 8.0379e-25,  3.2094e-24,  2.9298e-24],\n",
       "                        [ 1.8975e-24,  2.3300e-24, -6.4140e-24]]],\n",
       "              \n",
       "              \n",
       "                      [[[-2.3055e-02, -3.5406e-02, -2.0078e-02],\n",
       "                        [-1.6877e-02,  6.9753e-03, -4.6672e-02],\n",
       "                        [ 1.1363e-02, -3.4757e-02, -2.3596e-02]],\n",
       "              \n",
       "                       [[-1.2178e-01,  1.3885e-01,  1.3955e-01],\n",
       "                        [-1.9543e-02, -2.1341e-01,  1.9482e-01],\n",
       "                        [ 2.1213e-01, -7.7649e-03, -1.3984e-01]],\n",
       "              \n",
       "                       [[-1.4008e-02,  2.7314e-02,  3.2863e-02],\n",
       "                        [-4.3228e-02, -9.3647e-02,  5.0458e-02],\n",
       "                        [ 1.1535e-01,  2.9812e-03, -9.1766e-02]],\n",
       "              \n",
       "                       ...,\n",
       "              \n",
       "                       [[ 6.6221e-03, -4.2894e-02,  3.8662e-02],\n",
       "                        [ 5.1554e-03, -2.6500e-02, -6.8817e-03],\n",
       "                        [-2.6894e-02, -1.0974e-02,  1.3233e-02]],\n",
       "              \n",
       "                       [[ 4.4607e-02, -4.2426e-02, -4.0918e-02],\n",
       "                        [ 5.6054e-02,  6.0841e-02, -5.7272e-02],\n",
       "                        [-5.3310e-02,  1.7619e-02,  1.0426e-02]],\n",
       "              \n",
       "                       [[-6.1560e-02,  5.1127e-02, -8.8150e-03],\n",
       "                        [-1.1491e-01, -2.6463e-02,  8.4246e-02],\n",
       "                        [ 7.8971e-02, -1.1535e-01,  4.5706e-02]]],\n",
       "              \n",
       "              \n",
       "                      ...,\n",
       "              \n",
       "              \n",
       "                      [[[-2.1367e-02, -7.2060e-03, -7.3433e-04],\n",
       "                        [-4.8462e-02,  1.2019e-02,  2.1741e-02],\n",
       "                        [ 7.7216e-03,  3.0855e-02,  5.3282e-02]],\n",
       "              \n",
       "                       [[ 1.0320e-02, -4.5798e-03,  2.9112e-02],\n",
       "                        [ 2.4818e-02,  9.1059e-04,  6.8484e-03],\n",
       "                        [ 4.2927e-02,  2.6195e-02, -2.8754e-02]],\n",
       "              \n",
       "                       [[-4.2233e-02, -9.1376e-02, -6.2070e-02],\n",
       "                        [ 2.8899e-02, -5.4332e-02, -9.4185e-03],\n",
       "                        [ 5.7124e-03, -7.6214e-03,  1.4552e-04]],\n",
       "              \n",
       "                       ...,\n",
       "              \n",
       "                       [[ 2.7273e-02,  3.3167e-02, -1.6876e-02],\n",
       "                        [ 2.6033e-02,  7.9226e-02,  3.1162e-02],\n",
       "                        [ 5.5125e-02, -2.2919e-04, -5.2441e-02]],\n",
       "              \n",
       "                       [[ 2.1471e-02, -1.4949e-02,  2.4029e-03],\n",
       "                        [ 3.1684e-02,  2.5714e-02,  7.9905e-03],\n",
       "                        [ 3.5125e-02,  2.6211e-02, -2.2875e-02]],\n",
       "              \n",
       "                       [[-1.8285e-01, -1.3244e-01, -2.5922e-02],\n",
       "                        [-1.2726e-01, -8.7162e-02, -8.1856e-02],\n",
       "                        [-4.8851e-03, -7.8966e-02, -1.0247e-01]]],\n",
       "              \n",
       "              \n",
       "                      [[[-2.6309e-02, -2.0470e-02,  9.8918e-03],\n",
       "                        [-3.9335e-02, -2.2264e-02, -2.3609e-02],\n",
       "                        [ 1.2505e-02, -3.4595e-02,  1.1025e-02]],\n",
       "              \n",
       "                       [[ 4.0636e-02,  7.1967e-02, -4.2346e-02],\n",
       "                        [-7.2929e-02, -1.3194e-02,  1.1674e-01],\n",
       "                        [ 3.8556e-02, -4.3560e-02,  7.1373e-02]],\n",
       "              \n",
       "                       [[ 2.7600e-02,  8.1199e-02,  2.1352e-02],\n",
       "                        [ 4.9545e-03,  3.4827e-02, -1.1945e-02],\n",
       "                        [-3.7405e-02, -8.9137e-02,  2.7240e-02]],\n",
       "              \n",
       "                       ...,\n",
       "              \n",
       "                       [[ 2.4845e-02, -4.0413e-02,  1.6987e-02],\n",
       "                        [-1.0411e-02,  2.3529e-03, -2.9103e-02],\n",
       "                        [-5.0675e-02,  3.7695e-02,  3.2081e-02]],\n",
       "              \n",
       "                       [[-4.2723e-02, -3.2261e-02, -2.0693e-04],\n",
       "                        [ 1.2127e-02, -3.4722e-02, -2.6088e-02],\n",
       "                        [ 6.1864e-02,  4.8807e-02,  1.2216e-02]],\n",
       "              \n",
       "                       [[ 7.9611e-02,  3.0287e-02, -5.2195e-02],\n",
       "                        [-4.9494e-02,  1.6605e-02,  5.0274e-02],\n",
       "                        [-5.0290e-02,  1.0397e-02,  5.2083e-02]]],\n",
       "              \n",
       "              \n",
       "                      [[[-4.7528e-41, -5.7932e-41, -4.7802e-41],\n",
       "                        [-1.0155e-40,  2.0700e-41,  6.7435e-41],\n",
       "                        [-3.5688e-41,  5.8465e-41, -1.5407e-41]],\n",
       "              \n",
       "                       [[-9.4410e-41,  6.7826e-41,  1.2813e-40],\n",
       "                        [ 5.2759e-41, -5.0825e-42, -8.1547e-41],\n",
       "                        [-1.7644e-41,  1.2100e-41,  5.0130e-41]],\n",
       "              \n",
       "                       [[ 4.5262e-43, -2.2509e-41, -7.0760e-41],\n",
       "                        [-1.0630e-12, -3.2522e-11, -9.4999e-12],\n",
       "                        [-1.5822e-41, -1.0497e-40,  4.4400e-41]],\n",
       "              \n",
       "                       ...,\n",
       "              \n",
       "                       [[ 5.4590e-41,  6.9120e-41,  6.2733e-41],\n",
       "                        [ 3.5425e-28, -1.4049e-25, -1.9821e-22],\n",
       "                        [ 5.8182e-41, -3.9909e-41, -2.9461e-41]],\n",
       "              \n",
       "                       [[-2.5411e-41, -9.2015e-41,  8.3645e-41],\n",
       "                        [-9.4631e-41, -1.0050e-40, -1.0674e-40],\n",
       "                        [ 8.4141e-41,  7.3684e-41, -2.0458e-41]],\n",
       "              \n",
       "                       [[-1.2585e-41, -3.8659e-41, -5.5929e-41],\n",
       "                        [-3.3071e-42, -4.3898e-41, -5.4163e-41],\n",
       "                        [-2.0685e-41, -8.0300e-41,  3.2608e-42]]]])),\n",
       "             ('bias',\n",
       "              tensor([-2.9900e-02, -2.5274e-04,  4.3027e-02, -2.6134e-02, -3.3021e-02,\n",
       "                      -5.4970e-03, -1.3441e-02, -3.5922e-02,  3.0182e-03,  6.6530e-02,\n",
       "                      -4.0528e-02,  3.3661e-02,  4.0952e-02,  3.6984e-02, -2.1672e-02,\n",
       "                       5.0730e-02, -8.8589e-02, -1.8946e-02,  2.3968e-02,  4.3966e-02,\n",
       "                      -8.7950e-02, -2.2975e-02, -2.1510e-02,  2.3342e-02,  1.8444e-03,\n",
       "                      -3.4297e-02,  2.7376e-02,  6.1254e-03,  5.5026e-02,  3.8077e-03,\n",
       "                      -1.0707e-02, -3.4303e-02,  3.3162e-02,  2.2417e-02,  3.0263e-02,\n",
       "                      -4.5359e-03, -1.7705e-05,  4.0820e-02,  1.1004e-02, -2.9161e-03,\n",
       "                      -7.2446e-03,  1.2717e-02, -3.8641e-02, -2.4857e-02, -1.4613e-03,\n",
       "                      -7.4318e-03,  3.8938e-02, -3.0962e-02,  7.6171e-02,  6.3419e-02,\n",
       "                       3.2599e-02,  3.8234e-02, -2.8770e-02,  3.5921e-02,  1.3659e-02,\n",
       "                       3.4605e-02,  9.2534e-03,  9.6710e-04,  3.9614e-02,  1.4069e-02,\n",
       "                      -2.3944e-02,  3.6961e-02, -4.9583e-03, -2.7512e-06]))])"
      ]
     },
     "execution_count": 20,
     "metadata": {},
     "output_type": "execute_result"
    }
   ],
   "source": [
    "model_cifar10.features[2].state_dict()"
   ]
  },
  {
   "cell_type": "code",
   "execution_count": 21,
   "metadata": {},
   "outputs": [],
   "source": [
    "for param in model_cifar10.features.parameters():\n",
    "    param.requires_grad = False\n",
    "\n",
    "for param in model_mnist.features.parameters():\n",
    "    param.requires_grad = False\n",
    "\n",
    "model_cifar10.classifier.requires_grad = True\n",
    "model_mnist.classifier.requires_grad = True\n",
    "\n",
    "criterion = nn.CrossEntropyLoss()\n",
    "optimizer = optim.Adam(model_cifar10.parameters(), lr=0.001)\n",
    "num_epochs = 5\n",
    "\n",
    "def train(model, optimizer, criterion, train_loader, epochs=5):\n",
    "    losses = []\n",
    "    model.train()\n",
    "    for epoch in range(epochs):\n",
    "        for inputs, labels in train_loader:\n",
    "            optimizer.zero_grad()\n",
    "            outputs = model(inputs)\n",
    "            loss = criterion(outputs, labels)\n",
    "            loss.backward()\n",
    "            optimizer.step()\n",
    "            losses.append(loss.item())\n",
    "        print('Epoch [{}/{}], Loss: {:.4f}'.format(epoch+1, num_epochs, loss.item()))\n",
    "    plt.plot(losses)\n",
    "    plt.show()"
   ]
  },
  {
   "cell_type": "code",
   "execution_count": 22,
   "metadata": {},
   "outputs": [
    {
     "name": "stdout",
     "output_type": "stream",
     "text": [
      "Epoch [1/5], Loss: 0.8064\n",
      "Epoch [2/5], Loss: 0.1538\n",
      "Epoch [3/5], Loss: 0.2695\n",
      "Epoch [4/5], Loss: 0.2300\n",
      "Epoch [5/5], Loss: 0.5269\n"
     ]
    },
    {
     "data": {
      "image/png": "[encoded data removed]",
      "text/plain": [
       "<Figure size 640x480 with 1 Axes>"
      ]
     },
     "metadata": {},
     "output_type": "display_data"
    }
   ],
   "source": [
    "train(model_cifar10, optimizer, criterion, train_loader)"
   ]
  },
  {
   "cell_type": "markdown",
   "metadata": {},
   "source": [
    "# Learning rate hơi cao nhưng thui không sao"
   ]
  },
  {
   "cell_type": "code",
   "execution_count": 23,
   "metadata": {},
   "outputs": [
    {
     "name": "stdout",
     "output_type": "stream",
     "text": [
      "Epoch [1/5], Loss: 9.3533\n",
      "Epoch [2/5], Loss: 11.5599\n",
      "Epoch [3/5], Loss: 11.0160\n",
      "Epoch [4/5], Loss: 14.2572\n",
      "Epoch [5/5], Loss: 10.4374\n"
     ]
    },
    {
     "data": {
      "image/png": "[encoded data removed]",
      "text/plain": [
       "<Figure size 640x480 with 1 Axes>"
      ]
     },
     "metadata": {},
     "output_type": "display_data"
    }
   ],
   "source": [
    "train(model_mnist, optimizer, criterion, train_loader)"
   ]
  },
  {
   "cell_type": "code",
   "execution_count": 24,
   "metadata": {},
   "outputs": [
    {
     "name": "stdout",
     "output_type": "stream",
     "text": [
      "Epoch [1/5], Loss: 2.3031\n",
      "Epoch [2/5], Loss: 2.3018\n",
      "Epoch [3/5], Loss: 2.3015\n",
      "Epoch [4/5], Loss: 2.3041\n",
      "Epoch [5/5], Loss: 2.3026\n"
     ]
    },
    {
     "data": {
      "image/png": "[encoded data removed]",
      "text/plain": [
       "<Figure size 640x480 with 1 Axes>"
      ]
     },
     "metadata": {},
     "output_type": "display_data"
    }
   ],
   "source": [
    "model_vgg = MiniVGG()\n",
    "\n",
    "for param in model_vgg.features.parameters():\n",
    "    param.requires_grad = True\n",
    "\n",
    "model_vgg.classifier.requires_grad = True # require_grad không cần thiết nhưng cho rõ ràng là mình update toàn model\n",
    "\n",
    "train(model_vgg, optimizer, criterion, train_loader)"
   ]
  },
  {
   "cell_type": "code",
   "execution_count": 32,
   "metadata": {},
   "outputs": [
    {
     "data": {
      "text/plain": [
       "MiniVGG(\n",
       "  (features): Sequential(\n",
       "    (0): Conv2d(1, 64, kernel_size=(3, 3), stride=(1, 1), padding=(1, 1))\n",
       "    (1): ReLU(inplace=True)\n",
       "    (2): Conv2d(64, 64, kernel_size=(3, 3), stride=(1, 1), padding=(1, 1))\n",
       "    (3): ReLU(inplace=True)\n",
       "    (4): MaxPool2d(kernel_size=2, stride=2, padding=0, dilation=1, ceil_mode=False)\n",
       "    (5): Conv2d(64, 128, kernel_size=(3, 3), stride=(1, 1), padding=(1, 1))\n",
       "    (6): ReLU(inplace=True)\n",
       "    (7): Conv2d(128, 128, kernel_size=(3, 3), stride=(1, 1), padding=(1, 1))\n",
       "    (8): ReLU(inplace=True)\n",
       "    (9): MaxPool2d(kernel_size=2, stride=2, padding=0, dilation=1, ceil_mode=False)\n",
       "    (10): Conv2d(128, 256, kernel_size=(3, 3), stride=(1, 1), padding=(1, 1))\n",
       "    (11): ReLU(inplace=True)\n",
       "    (12): Conv2d(256, 256, kernel_size=(3, 3), stride=(1, 1), padding=(1, 1))\n",
       "    (13): ReLU(inplace=True)\n",
       "    (14): MaxPool2d(kernel_size=2, stride=2, padding=0, dilation=1, ceil_mode=False)\n",
       "  )\n",
       "  (classifier): Linear(in_features=2304, out_features=10, bias=True)\n",
       ")"
      ]
     },
     "execution_count": 32,
     "metadata": {},
     "output_type": "execute_result"
    }
   ],
   "source": [
    "model_vgg"
   ]
  },
  {
   "cell_type": "code",
   "execution_count": 38,
   "metadata": {},
   "outputs": [
    {
     "name": "stdout",
     "output_type": "stream",
     "text": [
      "Layer Name: features.0.weight, Shape: torch.Size([64, 1, 3, 3])\n",
      "Layer Name: features.0.bias, Shape: torch.Size([64])\n",
      "Layer Name: features.2.weight, Shape: torch.Size([64, 64, 3, 3])\n",
      "Layer Name: features.2.bias, Shape: torch.Size([64])\n",
      "Layer Name: features.5.weight, Shape: torch.Size([128, 64, 3, 3])\n",
      "Layer Name: features.5.bias, Shape: torch.Size([128])\n",
      "Layer Name: features.7.weight, Shape: torch.Size([128, 128, 3, 3])\n",
      "Layer Name: features.7.bias, Shape: torch.Size([128])\n",
      "Layer Name: features.10.weight, Shape: torch.Size([256, 128, 3, 3])\n",
      "Layer Name: features.10.bias, Shape: torch.Size([256])\n",
      "Layer Name: features.12.weight, Shape: torch.Size([256, 256, 3, 3])\n",
      "Layer Name: features.12.bias, Shape: torch.Size([256])\n",
      "Layer Name: classifier.weight, Shape: torch.Size([10, 2304])\n",
      "Layer Name: classifier.bias, Shape: torch.Size([10])\n"
     ]
    }
   ],
   "source": [
    "train_nodes, eval_nodes = get_graph_node_names(model_vgg)\n",
    "\n",
    "feature_extractor = create_feature_extractor(model_vgg, train_nodes)\n",
    "\n",
    "for name, param in feature_extractor.named_parameters():\n",
    "    print(f\"Layer Name: {name}, Shape: {param.shape}\")"
   ]
  },
  {
   "cell_type": "code",
   "execution_count": null,
   "metadata": {},
   "outputs": [],
   "source": [
    "def test(model, test_loader):\n",
    "    model.eval()\n",
    "    correct = 0\n",
    "    total = 0\n",
    "    with torch.no_grad():\n",
    "        for inputs, labels in test_loader:\n",
    "            outputs = model(inputs)\n",
    "            _, predicted = torch.max(outputs.data, 1)\n",
    "            total += labels.size(0)\n",
    "            correct += (predicted == labels).sum().item()\n",
    "\n",
    "    accuracy = correct / total\n",
    "    print(f'Accuracy: {accuracy}')"
   ]
  },
  {
   "cell_type": "code",
   "execution_count": null,
   "metadata": {},
   "outputs": [
    {
     "name": "stdout",
     "output_type": "stream",
     "text": [
      "Accuracy: 0.8747\n"
     ]
    }
   ],
   "source": [
    "test(model_cifar10, test_loader)\n"
   ]
  },
  {
   "cell_type": "code",
   "execution_count": null,
   "metadata": {},
   "outputs": [
    {
     "name": "stdout",
     "output_type": "stream",
     "text": [
      "Accuracy: 0.0598\n"
     ]
    }
   ],
   "source": [
    "test(model_mnist, test_loader)\n"
   ]
  },
  {
   "cell_type": "code",
   "execution_count": null,
   "metadata": {},
   "outputs": [
    {
     "name": "stdout",
     "output_type": "stream",
     "text": [
      "Accuracy: 0.0997\n"
     ]
    }
   ],
   "source": [
    "test(model_vgg, test_loader)\n"
   ]
  },
  {
   "cell_type": "code",
   "execution_count": null,
   "metadata": {},
   "outputs": [],
   "source": [
    "# save all the new finetuned models\n",
    "torch.save(model_cifar10.state_dict(), './models/cifar10_mini_vgg_finetuned.pth')\n",
    "torch.save(model_mnist.state_dict(), './models/mnist_mini_vgg_finetuned.pth')\n",
    "torch.save(model_vgg.state_dict(), './models/vgg_mini_vgg_finetuned.pth')"
   ]
  },
  {
   "cell_type": "markdown",
   "metadata": {},
   "source": [
    "\n",
    "<font size = \"13\"><span style=\"color:#EFE1D1\">\n",
    "ヽ(✿ﾟ▽ﾟ)ノ <br>\n",
    "LEADERBOARD: 1. Finetuned CIFAR-10, 2. VGG scratch , 3. Finetuned MNIST\n",
    "\n",
    "- Em nghĩ lí do Finetuned MNIST tệ vì nó được train để detect các số thay vì Finetuned CIFAR-10 được train detect các object. Cộng với việc mình freeze các layer features và chỉ chỉnh layer classifier\n",
    "VGG train từ đầu thì không tốt bằng finetune cifar-10 model có lẽ vì số lần epoch quá nhỏ. <br>\n",
    "- Em nghĩ khó có thể dự đoán performance sẽ như nào nếu train với nhiều epoch, khả năng VGG scratch sẽ bằng Finetuned CIFAR-10 nhưng MNIST sẽ khó achieve good performance hơn.\n",
    "\n",
    "</span></font>"
   ]
  }
 ],
 "metadata": {
  "kernelspec": {
   "display_name": "Python 3",
   "language": "python",
   "name": "python3"
  },
  "language_info": {
   "codemirror_mode": {
    "name": "ipython",
    "version": 3
   },
   "file_extension": ".py",
   "mimetype": "text/x-python",
   "name": "python",
   "nbconvert_exporter": "python",
   "pygments_lexer": "ipython3",
   "version": "3.11.2"
  }
 },
 "nbformat": 4,
 "nbformat_minor": 2
}
